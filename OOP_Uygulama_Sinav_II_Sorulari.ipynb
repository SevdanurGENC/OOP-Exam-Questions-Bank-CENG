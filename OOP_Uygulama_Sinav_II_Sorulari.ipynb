{
  "nbformat": 4,
  "nbformat_minor": 0,
  "metadata": {
    "colab": {
      "provenance": []
    },
    "kernelspec": {
      "name": "python3",
      "display_name": "Python 3"
    },
    "language_info": {
      "name": "python"
    }
  },
  "cells": [
    {
      "cell_type": "markdown",
      "source": [
        "# **OOP Uygulama Sınavı II Soruları ve Uygulama Sınav Yönergesi**\n",
        "\n",
        "*   ilk 4 soru 15 puan olup, son soru 40 puandır.\n",
        "*   **Lütfen soruları bireysel çözünüz**, haliyle işin içerisinde algoritma olduğu için her sorunun birden fazla çözüm yolu bulunmaktadır. Nasıl yorumlayacağınız ve senaryoları nasıl kurgulayacağınız tamamen size aittir.\n",
        "*   Lütfen soruları cevaplamak için soruların altındaki hücreleri kullanınız, hücrelere ekleme veya çıkartma işlemi yapabilirsiniz. Hücre altlarındaki ekran çıktılarına dikkat ediniz, size uygulamanın akışı hakkında yardımcı olacaktır. Bazı sorular senaryo gereği temel programlama kodları olan **if, for ve listeleme** gibi yapılara sahip olacaktır.\n",
        "*   **Son soruyu notebook üzerinde çözümünü yaptıktan sonra lütfen birebir olacak şekilde A4 kağıdında (tek sayfa) da çözünüz ve sınav gün ve saatinde bu kağıdı teslim etmeye geliniz.** Sınav yoklama listesine imzanızı atmayı unutmayınız. Kağıda isminiz, soyisminiz ve öğrenci numaranızı yazmayı ve imza atmayı unutmayınız.\n",
        "*   **Yoklama listesine imza atmayan kişi, uygulamayı sisteme yüklemiş olsa dahi sınavı geçersiz sayılacaktır.** Aynı zamanda devamsızlıktan kalan kişiler projelerini teslim etmiş olsalar bile final notundan devamsızdır şeklinde işaretlenecektir.\n",
        "*   **IPYNB** notebook'unu sisteme yüklerken lütfen **isim-soyisim-ogrencino.ipynb** şeklinde isimlendiriniz.\n",
        "*   Ödevi sisteme yüklemek için son teslim tarihi 29.12.2024 23:59'dur Sınav süresi bittiğinde, sistemde dosya yükleme işlemi kapatılacak olup sistem haricinde hiç bir şekilde başka bir platformdan dosyalar kabul edilmeyecektir.\n",
        "*   Sınav süresi boyunca aklınıza takılan soruları arşivlenmesi amacıyla teams yoluyla kabul edeceğim : sevdanur.genc@balikesir.edu.tr . Harici iletişim kanallarından gelen sorular kabul edilmeyecek ve herhangi bir geri dönüş yapılmayacaktır.\n",
        "\n",
        "Başarılar dilerim.  \n",
        "Dr. Öğr. Üyesi Sevdanur GENÇ\n",
        "\n",
        "\n",
        "\n",
        "\n"
      ],
      "metadata": {
        "id": "ona2wQ6IZ0UR"
      }
    },
    {
      "cell_type": "markdown",
      "source": [
        "**1.Soru (Abstract)**\n",
        "\n",
        "Bir müzik enstrümanı kiralama sistemi tasarlıyorsunuz. Sistemde çeşitli enstrüman türleri bulunmaktadır: Piyano, Gitar ve Keman.\n",
        "Her enstrümanın haftalık kiralama ücreti farklıdır ve sistem bu ücreti hesaplamalıdır.\n",
        "Aşağıdaki gereksinimleri karşılayın:\n",
        "\n",
        "1. Enstruman adında bir abstract sınıf oluşturun. Bu sınıfta enstrümanın adı ve türü tutulmalı, ayrıca bir abstract metot olan kiralama_ucreti bulunmalıdır.\n",
        "\n",
        "2. Piyano, Gitar ve Keman sınıfları Enstruman sınıfından türetilmelidir. Her sınıf kendi kiralama ücretini hesaplamalıdır:\n",
        "\n",
        "Piyano: Haftalık ücreti 1000 TL.\n",
        "\n",
        "Gitar: Haftalık ücreti 500 TL.\n",
        "\n",
        "Keman: Haftalık ücreti 300 TL.\n",
        "\n",
        "Bir main metodu ile her enstrümanın 3 hafta kiralandığında toplam ücretlerini hesaplayın."
      ],
      "metadata": {
        "id": "MueoNLejaa_9"
      }
    },
    {
      "cell_type": "code",
      "source": [
        "# Abstract sınıf\n",
        "\n",
        "\n",
        "\n",
        "\n",
        "\n",
        "\n",
        "\n",
        "\n",
        "# Alt sınıflar\n",
        "\n",
        "\n",
        "\n",
        "\n",
        "\n",
        "\n"
      ],
      "metadata": {
        "id": "gHWFpLJBacKT"
      },
      "execution_count": null,
      "outputs": []
    },
    {
      "cell_type": "code",
      "source": [
        "# Kullanım\n",
        "\n",
        "\n",
        "\n",
        "\n",
        "\n"
      ],
      "metadata": {
        "colab": {
          "base_uri": "https://localhost:8080/"
        },
        "id": "b8A3sQqna5MO",
        "outputId": "43204706-a502-4d62-9ee6-9f62486c7d19"
      },
      "execution_count": null,
      "outputs": [
        {
          "output_type": "stream",
          "name": "stdout",
          "text": [
            "Yamaha (Piyano): 3 hafta kiralama ücreti 3000 TL\n",
            "Fender (Gitar): 3 hafta kiralama ücreti 1500 TL\n",
            "Stradivarius (Keman): 3 hafta kiralama ücreti 900 TL\n"
          ]
        }
      ]
    },
    {
      "cell_type": "markdown",
      "source": [
        "**2.Soru (Inheritance (Kalıtım))**\n",
        "\n",
        "Bir araç kiralama şirketi için bir sistem tasarlıyorsunuz. Şirketin hem otomobilleri hem de kamyonetleri bulunmaktadır.\n",
        "\n",
        "Araçların ortak özellikleri şunlardır: plaka numarası, model yılı ve yakıt türü.\n",
        "\n",
        "Otomobiller, yakıt tüketimi için kilometre başına bir ücret hesaplar.\n",
        "\n",
        "Kamyonetler ise ek olarak taşıma kapasitesine göre günlük ücret ekler.\n",
        "\n",
        "Gereksinimler:\n",
        "\n",
        "1. Arac adlı bir temel sınıf oluşturun ve bu ortak özellikleri tanımlayın.\n",
        "2. Otomobil ve Kamyonet sınıflarını türetin:\n",
        "\n",
        "Otomobil: Kilometre başına 2 TL ücret alır.\n",
        "\n",
        "Kamyonet: Günlük ücret 100 TL + taşıma kapasitesi başına günlük ek ücret 10 TL'dir.\n",
        "\n",
        "Bir otomobil (2020 model) ve bir kamyonet (2018 model, 5 ton kapasiteli) için ücretleri hesaplayın:\n",
        "\n",
        "Otomobil: 150 km yol yapmış.\n",
        "\n",
        "Kamyonet: 3 gün kiralanmış."
      ],
      "metadata": {
        "id": "aUmkVLbAabfS"
      }
    },
    {
      "cell_type": "code",
      "source": [
        "# Temel sınıf\n",
        "\n",
        "\n",
        "\n",
        "\n",
        "\n",
        "\n",
        "\n",
        "# Alt sınıflar\n",
        "\n",
        "\n",
        "\n",
        "\n",
        "\n",
        "\n"
      ],
      "metadata": {
        "id": "RtkqXHr0aeCw"
      },
      "execution_count": null,
      "outputs": []
    },
    {
      "cell_type": "code",
      "source": [
        "# Kullanım\n",
        "\n",
        "\n",
        "\n",
        "\n",
        "\n"
      ],
      "metadata": {
        "colab": {
          "base_uri": "https://localhost:8080/"
        },
        "id": "X1cStmSDbHXa",
        "outputId": "9d9ef83c-bf8d-4976-e7e4-ed750f6dbb9b"
      },
      "execution_count": null,
      "outputs": [
        {
          "output_type": "stream",
          "name": "stdout",
          "text": [
            "Otomobil ücreti: 300 TL\n",
            "Kamyonet ücreti: 450 TL\n"
          ]
        }
      ]
    },
    {
      "cell_type": "markdown",
      "source": [
        "**3.Soru (Polymorphism (Çok Biçimlilik))**\n",
        "\n",
        "Bir hayvanat bahçesi yönetim sistemi oluşturuyorsunuz. Hayvanların günlük bakım maliyetlerini hesaplamak istiyorsunuz.\n",
        "Sistemde 3 hayvan türü bulunmaktadır: Aslan, Fil ve Maymun.\n",
        "Her hayvan türünün günlük bakım maliyeti farklıdır:\n",
        "\n",
        "Aslan: 200 TL\n",
        "\n",
        "Fil: 300 TL\n",
        "\n",
        "Maymun: 50 TL\n",
        "\n",
        "Her hayvan bir goster_bilgi fonksiyonuna sahiptir ve türüne göre farklı bilgi gösterir:\n",
        "\n",
        "Aslan: \"Aslan kükredi!\"\n",
        "\n",
        "Fil: \"Fil hortumuyla su püskürttü!\"\n",
        "\n",
        "Maymun: \"Maymun bir ağaca tırmandı!\"\n",
        "\n",
        "Hayvanların listesini tutarak çok biçimlilik sayesinde tüm hayvanların bakım maliyetlerini ve tür bilgilerini ekrana yazdırın.\n",
        "\n"
      ],
      "metadata": {
        "id": "lwl7PPI2bPkk"
      }
    },
    {
      "cell_type": "code",
      "source": [
        "# Temel sınıf\n",
        "\n",
        "\n",
        "\n",
        "\n",
        "\n",
        "\n",
        "\n",
        "\n",
        "\n",
        "# Alt sınıflar\n",
        "\n",
        "\n",
        "\n",
        "\n",
        "\n",
        "\n",
        "\n",
        "\n",
        "\n",
        "\n"
      ],
      "metadata": {
        "id": "I2-8NGRHbP8a"
      },
      "execution_count": null,
      "outputs": []
    },
    {
      "cell_type": "code",
      "source": [
        "# Kullanım\n",
        "\n",
        "\n",
        "\n",
        "\n",
        "\n",
        "\n",
        "\n",
        "\n"
      ],
      "metadata": {
        "colab": {
          "base_uri": "https://localhost:8080/"
        },
        "id": "cp3vH1SxbWkS",
        "outputId": "db65890b-44ed-470a-934b-f566304d6417"
      },
      "execution_count": null,
      "outputs": [
        {
          "output_type": "stream",
          "name": "stdout",
          "text": [
            "Simba: Aslan kükredi!\n",
            "Dumbo: Fil hortumuyla su püskürttü!\n",
            "George: Maymun bir ağaca tırmandı!\n",
            "Hayvanat bahçesinin toplam günlük bakım maliyeti: 550 TL\n"
          ]
        }
      ]
    },
    {
      "cell_type": "markdown",
      "source": [
        "**4.Soru (Kapsülleme (Encapsulation))**\n",
        "\n",
        "Bir e-ticaret sistemi tasarlıyorsunuz. Sistem, müşteri bilgilerini ve sipariş bilgilerini tutar. Aşağıdaki gereksinimleri karşılayan bir uygulama geliştirin:\n",
        "\n",
        "1. Musteri adında bir sınıf oluşturun. Bu sınıf aşağıdaki özel (private) özelliklere sahiptir:\n",
        "\n",
        "ad: Müşterinin adı\n",
        "\n",
        "email: Müşterinin e-posta adresi\n",
        "\n",
        "bakiye: Müşterinin bakiyesi\n",
        "\n",
        "2. Müşterinin bu özelliklerine doğrudan erişim engellenmelidir.\n",
        "Bunun yerine:\n",
        "\n",
        "ad ve email özelliklerini okumak için getter metotları oluşturun.\n",
        "bakiye özelliğini sadece artırmak için bir bakiye_ekle metodu yazın.\n",
        "\n",
        "3. Ayrıca, bir siparis_ver metodu oluşturun. Bu metodun işlevi:\n",
        "\n",
        "Ürün fiyatı, müşterinin bakiyesinden fazla ise \"Bakiye yetersiz!\" mesajı döndürmek.\n",
        "Aksi takdirde, bakiyeyi düşürüp \"Sipariş başarıyla tamamlandı!\" mesajını döndürmek.\n",
        "\n",
        "4. Bir müşteri oluşturun, bakiyesini artırın, ardından iki farklı ürün için sipariş vermeyi deneyin.\n",
        "\n"
      ],
      "metadata": {
        "id": "CWrYmXQYbZFd"
      }
    },
    {
      "cell_type": "code",
      "source": [
        "\n",
        "\n",
        "\n",
        "\n",
        "\n",
        "\n",
        "\n",
        "\n",
        "\n",
        "\n",
        "\n",
        "\n",
        "\n",
        "\n",
        "\n",
        "\n",
        "\n",
        "\n",
        "\n"
      ],
      "metadata": {
        "id": "4CGBwpShbZW9"
      },
      "execution_count": null,
      "outputs": []
    },
    {
      "cell_type": "code",
      "source": [
        "# Kullanım\n",
        "\n",
        "\n",
        "\n",
        "\n",
        "\n",
        "# Müşteri bilgilerini okuyalım\n",
        "\n",
        "\n",
        "\n",
        "\n",
        "\n",
        "# Bakiye ekleme\n",
        "                                   # 200 TL ekleyelim\n",
        "\n",
        "# Siparişler\n",
        "                                   # 250 TL'lik ürün\n",
        "                                   # 100 TL'lik ürün"
      ],
      "metadata": {
        "colab": {
          "base_uri": "https://localhost:8080/"
        },
        "id": "IKWp76FNcBd_",
        "outputId": "5f978515-cbf4-494d-dea7-2b7f56344f14"
      },
      "execution_count": null,
      "outputs": [
        {
          "output_type": "stream",
          "name": "stdout",
          "text": [
            "Müşteri Adı: Ahmet Yılmaz\n",
            "Müşteri E-posta: ahmet@example.com\n",
            "200 TL eklendi. Güncel bakiye: 300 TL\n",
            "Sipariş başarıyla tamamlandı! Kalan bakiye: 50 TL\n",
            "Bakiye yetersiz!\n"
          ]
        }
      ]
    },
    {
      "cell_type": "markdown",
      "source": [
        "**5.Soru:**\n",
        "\n",
        "Bir otel yönetim sistemi tasarlıyorsunuz. Otelde iki tür oda bulunmaktadır: Standart Oda ve Suit Oda. Her iki oda türü de farklı şekillerde ücretlendirilir:\n",
        "\n",
        "Standart Oda: Günlük sabit bir ücret üzerinden hesaplanır.\n",
        "\n",
        "Suit Oda: Günlük ücret + ekstra kişi başı ücret üzerinden hesaplanır.\n",
        "\n",
        "Yönetim sistemi şu gereksinimleri karşılamalıdır:\n",
        "\n",
        "1. Oda için bir Oda adlı abstract sınıf oluşturun. Bu sınıf her odanın numarasını (oda_no) ve günlük ücretini (gunluk_ucret) içermelidir. Ayrıca, toplam ücret hesaplama fonksiyonu (toplam_ucret) abstract bir metot olmalıdır.\n",
        "\n",
        "2. StandartOda ve SuitOda sınıfları, Oda sınıfından türetilmelidir. Her iki sınıf da toplam_ucret metodunu kendilerine uygun şekilde implement etmelidir.\n",
        "\n",
        "3. Otel sınıfı, odaların listesini tutmalı ve toplam gelirini hesaplamalıdır.\n",
        "Bir otel için aşağıdaki senaryoyu simüle edin:\n",
        "\n",
        "2 adet Standart Oda (Oda No: 101 ve 102) ve 1 adet Suit Oda (Oda No: 201, ekstra kişi başı ücret: 50 TL) tanımlayın.\n",
        "\n",
        "Oda kiralamalarını simüle edin:\n",
        "\n",
        "Oda 101: 3 gün kiralanmış.\n",
        "\n",
        "Oda 102: 2 gün kiralanmış.\n",
        "\n",
        "Oda 201: 4 gün kiralanmış, 3 kişi konaklamış.\n",
        "\n",
        "Otelin toplam gelirini hesaplayın."
      ],
      "metadata": {
        "id": "B_V-FL9saBFK"
      }
    },
    {
      "cell_type": "code",
      "source": [
        "\n",
        "\n",
        "\n",
        "\n",
        "\n",
        "\n",
        "\n",
        "\n",
        "\n",
        "\n",
        "\n",
        "\n",
        "\n",
        "\n",
        "\n",
        "\n",
        "\n",
        "\n",
        "\n",
        "\n",
        "\n",
        "\n",
        "\n",
        "\n",
        "\n",
        "\n"
      ],
      "metadata": {
        "id": "hj7A4Dn_Zzxg"
      },
      "execution_count": null,
      "outputs": []
    },
    {
      "cell_type": "code",
      "execution_count": null,
      "metadata": {
        "colab": {
          "base_uri": "https://localhost:8080/"
        },
        "id": "_BiJpg-NZx2k",
        "outputId": "a0f14a0d-6e66-4287-ac11-dbcdae19ae0c"
      },
      "outputs": [
        {
          "output_type": "stream",
          "name": "stdout",
          "text": [
            "Otelin toplam geliri: 3800 TL\n"
          ]
        }
      ],
      "source": [
        "# Odaları tanımlama\n",
        "\n",
        "\n",
        "\n",
        "\n",
        "\n",
        "\n",
        "\n",
        "# Otel oluşturma\n",
        "\n",
        "\n",
        "\n",
        "\n",
        "\n",
        "\n",
        "\n",
        "# Kiralama senaryosu\n",
        "\n",
        "\n",
        "\n",
        "\n",
        "\n",
        "\n",
        "# Toplam gelir hesaplama\n",
        "\n",
        "\n",
        "\n",
        "\n"
      ]
    }
  ]
}